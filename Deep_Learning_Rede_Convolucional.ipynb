{
  "nbformat": 4,
  "nbformat_minor": 0,
  "metadata": {
    "colab": {
      "name": " Deep Learning - Rede Convolucional",
      "provenance": [],
      "collapsed_sections": [],
      "authorship_tag": "ABX9TyP1fdRK21Ig+1bQ46EfxAp8",
      "include_colab_link": true
    },
    "kernelspec": {
      "name": "python3",
      "display_name": "Python 3"
    },
    "language_info": {
      "name": "python"
    }
  },
  "cells": [
    {
      "cell_type": "markdown",
      "metadata": {
        "id": "view-in-github",
        "colab_type": "text"
      },
      "source": [
        "<a href=\"https://colab.research.google.com/github/Jordy-Rodrigues/PROJETO-DEEP-LEARNING-02/blob/main/Deep_Learning_Rede_Convolucional.ipynb\" target=\"_parent\"><img src=\"https://colab.research.google.com/assets/colab-badge.svg\" alt=\"Open In Colab\"/></a>"
      ]
    },
    {
      "cell_type": "markdown",
      "source": [
        "REDE NEURAL CONVOLUCIONAL - DEEP LEARNING"
      ],
      "metadata": {
        "id": "5p9T6fEeox55"
      }
    },
    {
      "cell_type": "code",
      "source": [
        "# USAR A BIBLIOTECA AVISO 'WARNINGS' PARA IGNORAR AS MENSAGENS DE TEXTO QUE APARECERIA AO EXECUTAR O PROGRAMA\n",
        "import warnings\n",
        "warnings.filterwarnings('ignore')"
      ],
      "metadata": {
        "id": "qjlr0CP0vh4k"
      },
      "execution_count": 31,
      "outputs": []
    },
    {
      "cell_type": "code",
      "execution_count": 32,
      "metadata": {
        "id": "mHPeSm9tom_v"
      },
      "outputs": [],
      "source": [
        "# IMPORTAR AS BIBLIOTECAS BÁSICAS\n",
        "import torch\n",
        "import torchvision\n",
        "import torchvision.transforms as transforms"
      ]
    },
    {
      "cell_type": "code",
      "source": [
        "# NORMALIZAR OS DADOS\n",
        "transforms = transforms.Compose([transforms.ToTensor(),transforms.Normalize((0.5, 0.5, 0.5),(0.5, 0.5, 0.5))])"
      ],
      "metadata": {
        "id": "XBckZnqstt_D"
      },
      "execution_count": 33,
      "outputs": []
    },
    {
      "cell_type": "code",
      "source": [
        "batch_size = 4 # QUANTIDADE DE IMAGENS PARA VISUALIZAÇÃO\n",
        "\n",
        "# CARREGAR OS DADOS \n",
        "trainset = torchvision.datasets.CIFAR10(root='./data', train=True, download=True, transform=transforms)\n",
        "trainloader = torch.utils.data.DataLoader(trainset, batch_size = batch_size, shuffle=True, num_workers=2)\n",
        "testset = torchvision.datasets.CIFAR10(root='./data', train=False, download=True, transform=transforms)\n",
        "testloader = torch.utils.data.DataLoader(testset, batch_size = batch_size, shuffle=False, num_workers=2)\n",
        "\n",
        "classes = ('aeronave', 'carro', 'passaro', 'gato', 'veado', 'cachorro', 'sapo', 'cavalo', 'navio', 'caminhao') # NOME DOS 10 TIPOS DE IMAGENS DO DATASET"
      ],
      "metadata": {
        "colab": {
          "base_uri": "https://localhost:8080/"
        },
        "id": "nY-xK_ORp1jt",
        "outputId": "c8efb113-e8f3-4864-c7f5-7f8fe67ff89d"
      },
      "execution_count": 34,
      "outputs": [
        {
          "output_type": "stream",
          "name": "stdout",
          "text": [
            "Files already downloaded and verified\n",
            "Files already downloaded and verified\n"
          ]
        }
      ]
    },
    {
      "cell_type": "markdown",
      "source": [
        "VISUALIZAR AS IMAGENS"
      ],
      "metadata": {
        "id": "dMP0hHeMwJMN"
      }
    },
    {
      "cell_type": "code",
      "source": [
        "import matplotlib.pyplot as plt\n",
        "import numpy as np\n",
        "%matplotlib inline\n",
        "\n",
        "def imshow(img):\n",
        "  img = (img * 0.5) + 0.5\n",
        "  npimg = img.numpy()\n",
        "  plt.imshow(np.transpose(npimg, (1,2,0)))"
      ],
      "metadata": {
        "id": "4a-Zd7d-qfMU"
      },
      "execution_count": 35,
      "outputs": []
    },
    {
      "cell_type": "code",
      "source": [
        "import numpy as np\n",
        "dataiter = iter (trainloader)\n",
        "images, labels = dataiter.next()\n",
        "\n",
        "fig = plt.figure(figsize=(20,4))\n",
        "for idx in np.arange(4):\n",
        "  ax = fig.add_subplot(2, 8/2, idx + 1, xticks=[], yticks= [])\n",
        "  imshow(images[idx])\n",
        "  ax.set_title(classes[labels[idx]])\n",
        "  "
      ],
      "metadata": {
        "colab": {
          "base_uri": "https://localhost:8080/",
          "height": 149
        },
        "id": "NMxiwzBxyHNN",
        "outputId": "92d9e4f7-0964-405f-d305-30a9d0b27273"
      },
      "execution_count": 36,
      "outputs": [
        {
          "output_type": "display_data",
          "data": {
            "text/plain": [
              "<Figure size 1440x288 with 4 Axes>"
            ],
            "image/png": "[encoded data removed]"
          },
          "metadata": {}
        }
      ]
    },
    {
      "cell_type": "code",
      "source": [
        "# MONTAR A ARQUITETURA DA REDE NEURAL\n",
        "import torch.nn as nn\n",
        "import torch.nn.functional as F\n",
        "\n",
        "class CNN(nn.Module):\n",
        "  def __init__(self):\n",
        "      super().__init__()\n",
        "      self.conv1 = nn.Conv2d (3, 6, 5)\n",
        "      self.pool = nn.MaxPool2d (2, 2)\n",
        "      self.conv2 = nn.Conv2d (6, 16, 5)\n",
        "      self.fc1 = nn.Linear (16 * 5 * 5, 120)\n",
        "      self.fc2 = nn.Linear (120, 84)\n",
        "      self.fc3 = nn.Linear (84, 10)\n",
        "\n",
        "  def forward(self, x):\n",
        "    x = self.pool (F.relu(self.conv1(x)))\n",
        "    x = self.pool (F.relu(self.conv2(x)))\n",
        "    x = torch.flatten(x, 1)\n",
        "    x = F.relu(self.fc1(x))\n",
        "    x = F.relu(self.fc2(x))\n",
        "    x = self.fc3(x)\n",
        "\n",
        "    return x\n",
        "\n",
        "cnn = CNN()"
      ],
      "metadata": {
        "id": "M8yMvW6r2gQw"
      },
      "execution_count": 37,
      "outputs": []
    },
    {
      "cell_type": "code",
      "source": [
        "import torch.optim as optim\n",
        "criterion = nn.CrossEntropyLoss()\n",
        "optimizer = optim.SGD(cnn.parameters(), lr= 0.006, momentum = 0.8)"
      ],
      "metadata": {
        "id": "32lsckYl7NGu"
      },
      "execution_count": 38,
      "outputs": []
    },
    {
      "cell_type": "markdown",
      "source": [
        "TREINAR O MODELO"
      ],
      "metadata": {
        "id": "cpWAiRm49H75"
      }
    },
    {
      "cell_type": "code",
      "source": [
        "epochs = 4\n",
        "for epoch in range (epochs):\n",
        "  running_loss = 0.0\n",
        "  for i, data in enumerate (trainloader, 0):\n",
        "    inputs, labels = data\n",
        "\n",
        "    optimizer.zero_grad()\n",
        "\n",
        "    outputs = cnn (inputs)\n",
        "    loss = criterion (outputs, labels)\n",
        "    loss.backward()\n",
        "    optimizer.step()\n",
        "\n",
        "    running_loss += loss.item()\n",
        "    if i % 2000 == 1999:\n",
        "      print('[%d, %5d] loss: %.3f' %\n",
        "          (epoch + 1, i + 1, running_loss / 2000))\n",
        "      running_loss = 0.0\n",
        "    \n",
        "print('Finished Training')"
      ],
      "metadata": {
        "id": "HuO5SIpo8-_U",
        "colab": {
          "base_uri": "https://localhost:8080/"
        },
        "outputId": "1a18d65b-8f13-47b9-854e-e9718c6bcfc0"
      },
      "execution_count": 39,
      "outputs": [
        {
          "output_type": "stream",
          "name": "stdout",
          "text": [
            "[1,  2000] loss: 2.050\n",
            "[1,  4000] loss: 1.729\n",
            "[1,  6000] loss: 1.621\n",
            "[1,  8000] loss: 1.579\n",
            "[1, 10000] loss: 1.524\n",
            "[1, 12000] loss: 1.476\n",
            "[2,  2000] loss: 1.413\n",
            "[2,  4000] loss: 1.423\n",
            "[2,  6000] loss: 1.424\n",
            "[2,  8000] loss: 1.387\n",
            "[2, 10000] loss: 1.390\n",
            "[2, 12000] loss: 1.388\n",
            "[3,  2000] loss: 1.331\n",
            "[3,  4000] loss: 1.330\n",
            "[3,  6000] loss: 1.375\n",
            "[3,  8000] loss: 1.331\n",
            "[3, 10000] loss: 1.363\n",
            "[3, 12000] loss: 1.343\n",
            "[4,  2000] loss: 1.283\n",
            "[4,  4000] loss: 1.311\n",
            "[4,  6000] loss: 1.312\n",
            "[4,  8000] loss: 1.335\n",
            "[4, 10000] loss: 1.315\n",
            "[4, 12000] loss: 1.308\n",
            "Finished Training\n"
          ]
        }
      ]
    },
    {
      "cell_type": "markdown",
      "source": [
        "SALVAR O MODELO"
      ],
      "metadata": {
        "id": "1lHQAkXU80NZ"
      }
    },
    {
      "cell_type": "code",
      "source": [
        "import os\n",
        "model_path = './model/'\n",
        "file_name = 'cnn_model.pth'\n",
        "\n",
        "if not os.path.exists (model_path):\n",
        "  os.makedirs (model_path)\n",
        "\n",
        "torch.save (cnn.state_dict(), model_path + file_name)\n"
      ],
      "metadata": {
        "id": "7Qyw94ok5crE"
      },
      "execution_count": 40,
      "outputs": []
    },
    {
      "cell_type": "markdown",
      "source": [
        "TREINANDO O MODELO"
      ],
      "metadata": {
        "id": "ZnDI2rn6-XyH"
      }
    },
    {
      "cell_type": "code",
      "source": [
        "dataiter = iter (testloader)\n",
        "images, labels = dataiter.next()\n",
        "\n",
        "fig = plt.figure(figsize=(20,4))\n",
        "for idx in np.arange(4):\n",
        "  ax = fig.add_subplot (2, 8/2, idx + 1, xticks = [], yticks = [])\n",
        "  imshow (images[idx])\n",
        "  ax.set_title (classes [labels[idx]])\n"
      ],
      "metadata": {
        "colab": {
          "base_uri": "https://localhost:8080/",
          "height": 149
        },
        "id": "TWXWRshI-awe",
        "outputId": "4e52866a-3e1b-4cb6-f50a-238ae43cbcad"
      },
      "execution_count": 41,
      "outputs": [
        {
          "output_type": "display_data",
          "data": {
            "text/plain": [
              "<Figure size 1440x288 with 4 Axes>"
            ],
            "image/png": "[encoded data removed]"
          },
          "metadata": {}
        }
      ]
    },
    {
      "cell_type": "markdown",
      "source": [
        "IMPORTAR MODELO TREINADO"
      ],
      "metadata": {
        "id": "hxyq13n0_zqh"
      }
    },
    {
      "cell_type": "code",
      "source": [
        "cnn = CNN()\n",
        "cnn.load_state_dict (torch.load (model_path + file_name))"
      ],
      "metadata": {
        "colab": {
          "base_uri": "https://localhost:8080/"
        },
        "id": "EywbZxMq_g2e",
        "outputId": "c370cb87-9e87-445b-a288-8658679883b8"
      },
      "execution_count": 42,
      "outputs": [
        {
          "output_type": "execute_result",
          "data": {
            "text/plain": [
              "<All keys matched successfully>"
            ]
          },
          "metadata": {},
          "execution_count": 42
        }
      ]
    },
    {
      "cell_type": "markdown",
      "source": [
        "FAZENDO PREVISÃO"
      ],
      "metadata": {
        "id": "BDeErKABAStE"
      }
    },
    {
      "cell_type": "code",
      "source": [
        "outputs = cnn (images)\n",
        "outputs\n",
        "\n",
        "_, predicted = torch.max (outputs, 1)\n",
        "print(' Predicted: ', ' '. join ('%5s'% classes [predicted[j]] \n",
        "                                 for j in range (4)))"
      ],
      "metadata": {
        "colab": {
          "base_uri": "https://localhost:8080/"
        },
        "id": "4Ls8ukL0AQX4",
        "outputId": "dce21ef4-82a0-415b-f73d-e1381e7143ac"
      },
      "execution_count": 43,
      "outputs": [
        {
          "output_type": "stream",
          "name": "stdout",
          "text": [
            " Predicted:   gato carro aeronave aeronave\n"
          ]
        }
      ]
    },
    {
      "cell_type": "markdown",
      "source": [
        "PERFORMANCE DO MODELO NO DATASET COMPLETO"
      ],
      "metadata": {
        "id": "nEwh3xIaCLTa"
      }
    },
    {
      "cell_type": "code",
      "source": [
        "correct = 0\n",
        "total = 0\n",
        "\n",
        "with torch.no_grad():\n",
        "  for data in testloader:\n",
        "    images, labels = data\n",
        "    outputs = cnn (images)\n",
        "    _, predicted = torch.max (outputs. data, 1)\n",
        "    total += labels.size(0)\n",
        "    correct += (predicted == labels). sum().item()\n",
        "\n",
        "print('Accuracy of the network on the 10.000 test images: %d %%' % (100 * correct / total))"
      ],
      "metadata": {
        "colab": {
          "base_uri": "https://localhost:8080/"
        },
        "id": "n6-LeIBmBmEO",
        "outputId": "14968029-5990-4f16-e4b3-3d99c25595cc"
      },
      "execution_count": 44,
      "outputs": [
        {
          "output_type": "stream",
          "name": "stdout",
          "text": [
            "Accuracy of the network on the 10.000 test images: 54 %\n"
          ]
        }
      ]
    },
    {
      "cell_type": "markdown",
      "source": [
        "PERFORMANCE POR CLASSE "
      ],
      "metadata": {
        "id": "qp6C8JO3Famd"
      }
    },
    {
      "cell_type": "code",
      "source": [
        "correct_pred = {classname: 0 for classname in classes}\n",
        "total_pred = {classname: 0 for classname in classes}\n",
        "\n",
        "with torch.no_grad():\n",
        "  for data in testloader:\n",
        "    images, labels = data\n",
        "    outputs = cnn (images)\n",
        "    _, predictions = torch.max (outputs, 1)\n",
        "\n",
        "    for label, prediction in zip (labels, predictions):\n",
        "      if label == prediction:\n",
        "        correct_pred [classes[label]] += 1\n",
        "      total_pred [classes[label]] += 1\n",
        "\n",
        "for classname, correct_count in correct_pred.items():\n",
        "  accuracy = 100 * float (correct_count) / total_pred [classname]\n",
        "  print('Acuracy for class {:5s} is: {:.1f} %'.format (classname, accuracy))"
      ],
      "metadata": {
        "colab": {
          "base_uri": "https://localhost:8080/"
        },
        "id": "kfLcJE4VFfWQ",
        "outputId": "2c2c6bab-d80f-46c1-b91c-0ab750f47ab5"
      },
      "execution_count": 45,
      "outputs": [
        {
          "output_type": "stream",
          "name": "stdout",
          "text": [
            "Acuracy for class aeronave is: 72.2 %\n",
            "Acuracy for class carro is: 74.5 %\n",
            "Acuracy for class passaro is: 25.7 %\n",
            "Acuracy for class gato  is: 35.7 %\n",
            "Acuracy for class veado is: 43.8 %\n",
            "Acuracy for class cachorro is: 47.7 %\n",
            "Acuracy for class sapo  is: 62.8 %\n",
            "Acuracy for class cavalo is: 64.6 %\n",
            "Acuracy for class navio is: 61.0 %\n",
            "Acuracy for class caminhao is: 56.9 %\n"
          ]
        }
      ]
    }
  ]
}